{
  "nbformat": 4,
  "nbformat_minor": 0,
  "metadata": {
    "colab": {
      "name": "Neural Networks Lab: Crash Course AI #5",
      "provenance": [],
      "collapsed_sections": [],
      "include_colab_link": true
    },
    "kernelspec": {
      "name": "python3",
      "display_name": "Python 3"
    }
  },
  "cells": [
    {
      "cell_type": "markdown",
      "metadata": {
        "id": "view-in-github",
        "colab_type": "text"
      },
      "source": [
        "<a href=\"https://colab.research.google.com/github/turhancan97/Google_Colab_Projects/blob/master/Neural_Networks_Lab_Crash_Course_AI_5.ipynb\" target=\"_parent\"><img src=\"https://colab.research.google.com/assets/colab-badge.svg\" alt=\"Open In Colab\"/></a>"
      ]
    },
    {
      "cell_type": "markdown",
      "metadata": {
        "id": "n-PuJl-rHxW1",
        "colab_type": "text"
      },
      "source": [
        "Neural networks can perform really powerful tasks. We're going to use them to do something relatively simple, but this framework can be expanded to solve more complex problems.\n",
        "\n",
        "In this exercise, we're going to use a dataset of handwritten letters called EMNIST. This dataset is a subset of a larger dataset composed of handwritten letters and numbers that was orginally collected from census bureau employees and high school students. \n",
        "\n",
        "Because different people write letters differently, programming a neural network to recognize handwritten letters and convert them to typed text is a non-trivial task. For example, think about all of the different ways you've seen people write the letter \"J.\"\n",
        "\n",
        "**STEP 1**\n",
        "\n",
        "The first thing we're going to do is import the EMNIST libraries so that we have access to this training set."
      ]
    },
    {
      "cell_type": "code",
      "metadata": {
        "id": "bGP5woydMEMa",
        "colab_type": "code",
        "colab": {
          "base_uri": "https://localhost:8080/",
          "height": 353
        },
        "outputId": "31793b76-ec8f-47b0-885b-5f4165bbbe5d"
      },
      "source": [
        "# STEP 1.1\n",
        "\n",
        "!git clone https://github.com/sorki/python-mnist\n",
        "!./python-mnist/get_data.sh\n",
        "!pip3 install emnist\n",
        "from emnist import extract_training_samples\n",
        "\n",
        "print(\"Imported the EMNIST libraries we need!\")"
      ],
      "execution_count": 1,
      "outputs": [
        {
          "output_type": "stream",
          "text": [
            "Cloning into 'python-mnist'...\n",
            "remote: Enumerating objects: 23, done.\u001b[K\n",
            "remote: Counting objects:   4% (1/23)\u001b[K\rremote: Counting objects:   8% (2/23)\u001b[K\rremote: Counting objects:  13% (3/23)\u001b[K\rremote: Counting objects:  17% (4/23)\u001b[K\rremote: Counting objects:  21% (5/23)\u001b[K\rremote: Counting objects:  26% (6/23)\u001b[K\rremote: Counting objects:  30% (7/23)\u001b[K\rremote: Counting objects:  34% (8/23)\u001b[K\rremote: Counting objects:  39% (9/23)\u001b[K\rremote: Counting objects:  43% (10/23)\u001b[K\rremote: Counting objects:  47% (11/23)\u001b[K\rremote: Counting objects:  52% (12/23)\u001b[K\rremote: Counting objects:  56% (13/23)\u001b[K\rremote: Counting objects:  60% (14/23)\u001b[K\rremote: Counting objects:  65% (15/23)\u001b[K\rremote: Counting objects:  69% (16/23)\u001b[K\rremote: Counting objects:  73% (17/23)\u001b[K\rremote: Counting objects:  78% (18/23)\u001b[K\rremote: Counting objects:  82% (19/23)\u001b[K\rremote: Counting objects:  86% (20/23)\u001b[K\rremote: Counting objects:  91% (21/23)\u001b[K\rremote: Counting objects:  95% (22/23)\u001b[K\rremote: Counting objects: 100% (23/23)\u001b[K\rremote: Counting objects: 100% (23/23), done.\u001b[K\n",
            "remote: Compressing objects:   6% (1/15)\u001b[K\rremote: Compressing objects:  13% (2/15)\u001b[K\rremote: Compressing objects:  20% (3/15)\u001b[K\rremote: Compressing objects:  26% (4/15)\u001b[K\rremote: Compressing objects:  33% (5/15)\u001b[K\rremote: Compressing objects:  40% (6/15)\u001b[K\rremote: Compressing objects:  46% (7/15)\u001b[K\rremote: Compressing objects:  53% (8/15)\u001b[K\rremote: Compressing objects:  60% (9/15)\u001b[K\rremote: Compressing objects:  66% (10/15)\u001b[K\rremote: Compressing objects:  73% (11/15)\u001b[K\rremote: Compressing objects:  80% (12/15)\u001b[K\rremote: Compressing objects:  86% (13/15)\u001b[K\rremote: Compressing objects:  93% (14/15)\u001b[K\rremote: Compressing objects: 100% (15/15)\u001b[K\rremote: Compressing objects: 100% (15/15), done.\u001b[K\n",
            "Receiving objects:   0% (1/240)   \rReceiving objects:   1% (3/240)   \rReceiving objects:   2% (5/240)   \rReceiving objects:   3% (8/240)   \rReceiving objects:   4% (10/240)   \rReceiving objects:   5% (12/240)   \rReceiving objects:   6% (15/240)   \rReceiving objects:   7% (17/240)   \rReceiving objects:   8% (20/240)   \rReceiving objects:   9% (22/240)   \rReceiving objects:  10% (24/240)   \rReceiving objects:  11% (27/240)   \rReceiving objects:  12% (29/240)   \rReceiving objects:  13% (32/240)   \rReceiving objects:  14% (34/240)   \rReceiving objects:  15% (36/240)   \rReceiving objects:  16% (39/240)   \rReceiving objects:  17% (41/240)   \rReceiving objects:  18% (44/240)   \rReceiving objects:  19% (46/240)   \rReceiving objects:  20% (48/240)   \rReceiving objects:  21% (51/240)   \rReceiving objects:  22% (53/240)   \rReceiving objects:  23% (56/240)   \rReceiving objects:  24% (58/240)   \rReceiving objects:  25% (60/240)   \rReceiving objects:  26% (63/240)   \rReceiving objects:  27% (65/240)   \rReceiving objects:  28% (68/240)   \rremote: Total 240 (delta 8), reused 18 (delta 7), pack-reused 217\u001b[K\n",
            "Receiving objects:  29% (70/240)   \rReceiving objects:  30% (72/240)   \rReceiving objects:  31% (75/240)   \rReceiving objects:  32% (77/240)   \rReceiving objects:  33% (80/240)   \rReceiving objects:  34% (82/240)   \rReceiving objects:  35% (84/240)   \rReceiving objects:  36% (87/240)   \rReceiving objects:  37% (89/240)   \rReceiving objects:  38% (92/240)   \rReceiving objects:  39% (94/240)   \rReceiving objects:  40% (96/240)   \rReceiving objects:  41% (99/240)   \rReceiving objects:  42% (101/240)   \rReceiving objects:  43% (104/240)   \rReceiving objects:  44% (106/240)   \rReceiving objects:  45% (108/240)   \rReceiving objects:  46% (111/240)   \rReceiving objects:  47% (113/240)   \rReceiving objects:  48% (116/240)   \rReceiving objects:  49% (118/240)   \rReceiving objects:  50% (120/240)   \rReceiving objects:  51% (123/240)   \rReceiving objects:  52% (125/240)   \rReceiving objects:  53% (128/240)   \rReceiving objects:  54% (130/240)   \rReceiving objects:  55% (132/240)   \rReceiving objects:  56% (135/240)   \rReceiving objects:  57% (137/240)   \rReceiving objects:  58% (140/240)   \rReceiving objects:  59% (142/240)   \rReceiving objects:  60% (144/240)   \rReceiving objects:  61% (147/240)   \rReceiving objects:  62% (149/240)   \rReceiving objects:  63% (152/240)   \rReceiving objects:  64% (154/240)   \rReceiving objects:  65% (156/240)   \rReceiving objects:  66% (159/240)   \rReceiving objects:  67% (161/240)   \rReceiving objects:  68% (164/240)   \rReceiving objects:  69% (166/240)   \rReceiving objects:  70% (168/240)   \rReceiving objects:  71% (171/240)   \rReceiving objects:  72% (173/240)   \rReceiving objects:  73% (176/240)   \rReceiving objects:  74% (178/240)   \rReceiving objects:  75% (180/240)   \rReceiving objects:  76% (183/240)   \rReceiving objects:  77% (185/240)   \rReceiving objects:  78% (188/240)   \rReceiving objects:  79% (190/240)   \rReceiving objects:  80% (192/240)   \rReceiving objects:  81% (195/240)   \rReceiving objects:  82% (197/240)   \rReceiving objects:  83% (200/240)   \rReceiving objects:  84% (202/240)   \rReceiving objects:  85% (204/240)   \rReceiving objects:  86% (207/240)   \rReceiving objects:  87% (209/240)   \rReceiving objects:  88% (212/240)   \rReceiving objects:  89% (214/240)   \rReceiving objects:  90% (216/240)   \rReceiving objects:  91% (219/240)   \rReceiving objects:  92% (221/240)   \rReceiving objects:  93% (224/240)   \rReceiving objects:  94% (226/240)   \rReceiving objects:  95% (228/240)   \rReceiving objects:  96% (231/240)   \rReceiving objects:  97% (233/240)   \rReceiving objects:  98% (236/240)   \rReceiving objects:  99% (238/240)   \rReceiving objects: 100% (240/240)   \rReceiving objects: 100% (240/240), 47.36 KiB | 4.30 MiB/s, done.\n",
            "Resolving deltas:   0% (0/113)   \rResolving deltas:   1% (2/113)   \rResolving deltas:   2% (3/113)   \rResolving deltas:   3% (4/113)   \rResolving deltas:   4% (5/113)   \rResolving deltas:   5% (6/113)   \rResolving deltas:  11% (13/113)   \rResolving deltas:  14% (16/113)   \rResolving deltas:  15% (18/113)   \rResolving deltas:  16% (19/113)   \rResolving deltas:  17% (20/113)   \rResolving deltas:  18% (21/113)   \rResolving deltas:  19% (22/113)   \rResolving deltas:  20% (23/113)   \rResolving deltas:  21% (24/113)   \rResolving deltas:  27% (31/113)   \rResolving deltas:  29% (33/113)   \rResolving deltas:  32% (37/113)   \rResolving deltas:  41% (47/113)   \rResolving deltas:  61% (70/113)   \rResolving deltas:  62% (71/113)   \rResolving deltas:  64% (73/113)   \rResolving deltas:  65% (74/113)   \rResolving deltas:  67% (76/113)   \rResolving deltas:  68% (77/113)   \rResolving deltas:  70% (80/113)   \rResolving deltas:  77% (88/113)   \rResolving deltas:  88% (100/113)   \rResolving deltas:  90% (102/113)   \rResolving deltas:  97% (110/113)   \rResolving deltas:  98% (111/113)   \rResolving deltas:  99% (112/113)   \rResolving deltas: 100% (113/113)   \rResolving deltas: 100% (113/113), done.\n",
            "/bin/bash: ./python-mnist/get_data.sh: No such file or directory\n",
            "Collecting emnist\n",
            "  Downloading https://files.pythonhosted.org/packages/d1/f4/78b24acbef9e8fe976dda700f16a3606f3b8363b015bc555f8050fbbd8ac/emnist-0.0-py3-none-any.whl\n",
            "Requirement already satisfied: numpy in /usr/local/lib/python3.6/dist-packages (from emnist) (1.18.3)\n",
            "Requirement already satisfied: tqdm in /usr/local/lib/python3.6/dist-packages (from emnist) (4.38.0)\n",
            "Requirement already satisfied: requests in /usr/local/lib/python3.6/dist-packages (from emnist) (2.23.0)\n",
            "Requirement already satisfied: urllib3!=1.25.0,!=1.25.1,<1.26,>=1.21.1 in /usr/local/lib/python3.6/dist-packages (from requests->emnist) (1.24.3)\n",
            "Requirement already satisfied: idna<3,>=2.5 in /usr/local/lib/python3.6/dist-packages (from requests->emnist) (2.9)\n",
            "Requirement already satisfied: chardet<4,>=3.0.2 in /usr/local/lib/python3.6/dist-packages (from requests->emnist) (3.0.4)\n",
            "Requirement already satisfied: certifi>=2017.4.17 in /usr/local/lib/python3.6/dist-packages (from requests->emnist) (2020.4.5.1)\n",
            "Installing collected packages: emnist\n",
            "Successfully installed emnist-0.0\n",
            "Imported the EMNIST libraries we need!\n"
          ],
          "name": "stdout"
        }
      ]
    },
    {
      "cell_type": "markdown",
      "metadata": {
        "id": "tsAUNl0jQ24H",
        "colab_type": "text"
      },
      "source": [
        "Now, we want to grab the data that we want to analyze from these libraries.  In this case, we want to grab the EMNIST \"letters\" dataset, which is made up of 145,600 28x28 pixel (or 784 pixels in total) images of letters. Each pixel is a grayscale value between 0 and 255. To make it easier for the neural network to process, we divide each value by 255 to get to a number between 0 and 1 for each pixel in each image. Performing a transformation like this to make the data easier to process in a machine learning method is called pre-processing.  Different pre-processing steps may be required for different types of data. \n",
        "\n",
        "This dataset also includes the known labels for these images. That's what our neural network is going to learn from. In this case, we'll use the first 60,000 pictures as our training set and then we'll use the following 10,000 pictures as our testing set (and use them to ask the network to check how well it has learned). This is a bit of an arbitrary decision, but based on our experience, this is large enough of a sample (more will just take longer to process but won't improve accuracy of the model) --- but don't take our word for it, you can play around with the training and testing sample on your own. Just remember to always keep the two samples separate.\n",
        "\n",
        "When you run this cell, it might take a little bit of time -- remember that this code is essentially downloading 70,000 pictures!\n"
      ]
    },
    {
      "cell_type": "code",
      "metadata": {
        "id": "vDj9tyEAMVn5",
        "colab_type": "code",
        "colab": {
          "base_uri": "https://localhost:8080/",
          "height": 50
        },
        "outputId": "359eda93-2d11-4f3f-c444-6e250712b616"
      },
      "source": [
        "# STEP 1.2\n",
        "\n",
        "# Grab the data from the OpenML website\n",
        "# X will be our images and y will be the labels\n",
        "X, y = extract_training_samples('letters')\n",
        "\n",
        "# Make sure that every pixel in all of the images is a value between 0 and 1\n",
        "X = X / 255.\n",
        "\n",
        "# Use the first 60000 instances as training and the next 10000 as testing\n",
        "X_train, X_test = X[:60000], X[60000:70000]\n",
        "y_train, y_test = y[:60000], y[60000:70000]\n",
        "\n",
        "# There is one other thing we need to do, we need to\n",
        "# record the number of samples in each dataset and the number of pixels in each image\n",
        "X_train = X_train.reshape(60000,784)\n",
        "X_test = X_test.reshape(10000,784)\n",
        "\n",
        "print(\"Extracted our samples and divided our training and testing data sets\")"
      ],
      "execution_count": 2,
      "outputs": [
        {
          "output_type": "stream",
          "text": [
            "Downloading emnist.zip: 536MB [00:03, 178MB/s]\n"
          ],
          "name": "stderr"
        },
        {
          "output_type": "stream",
          "text": [
            "Extracted our samples and divided our training and testing data sets\n"
          ],
          "name": "stdout"
        }
      ]
    },
    {
      "cell_type": "markdown",
      "metadata": {
        "id": "-7xwZ3sGQ2R5",
        "colab_type": "text"
      },
      "source": [
        "To make sure the data downloaded, let's take a look at some of the pictures and labels in the set.  You can change the img_index value to different numbers and run the code as many times as you want to look at the label and picture for different training instances. Some letters are pretty clear (like, 8888 is definitely a \"Y\"), but others not as much (like, is 1234 a loopy \"L\" or a \"P\" or maybe even an \"E\" at a weird angle?) It's easy to see why this is such a hard task!\n",
        "\n",
        "But the important thing is that we know that the data downloaded correctly, so we're ready for the next steps.\n",
        "\n"
      ]
    },
    {
      "cell_type": "code",
      "metadata": {
        "id": "DWcb4sxAP2lT",
        "colab_type": "code",
        "colab": {
          "base_uri": "https://localhost:8080/",
          "height": 298
        },
        "outputId": "1d0657d8-2ece-4b90-a368-cf8b4ee845db"
      },
      "source": [
        "# STEP 1.3\n",
        "\n",
        "import matplotlib.pyplot as plt\n",
        "\n",
        "img_index = 14000 # <<<<<  You can update this value to look at other images\n",
        "img = X_train[img_index]\n",
        "print(\"Image Label: \" + str(chr(y_train[img_index]+96)))\n",
        "plt.imshow(img.reshape((28,28)))"
      ],
      "execution_count": 3,
      "outputs": [
        {
          "output_type": "stream",
          "text": [
            "Image Label: m\n"
          ],
          "name": "stdout"
        },
        {
          "output_type": "execute_result",
          "data": {
            "text/plain": [
              "<matplotlib.image.AxesImage at 0x7f83da4dbe80>"
            ]
          },
          "metadata": {
            "tags": []
          },
          "execution_count": 3
        },
        {
          "output_type": "display_data",
          "data": {
            "image/png": "[encoded data removed]",
            "text/plain": [
              "<Figure size 432x288 with 1 Axes>"
            ]
          },
          "metadata": {
            "tags": [],
            "needs_background": "light"
          }
        }
      ]
    },
    {
      "cell_type": "markdown",
      "metadata": {
        "id": "gfT7zKZkUyYn",
        "colab_type": "text"
      },
      "source": [
        "**STEP 2**\n",
        "\n",
        "Now that we've looked at the data, let's build a neural network that will be able to take the picture as input and output the corresponding letter.  In this case, we're going to stick to a multi-layer perceptron neural network, or MLP. \n",
        "\n",
        "Rather than trying to write all of it from scratch, we're going to import and use an existing library that provides some MLP tools for us. For a lot of AI problems, we can use existing libraries and tweak them to do something new rather than trying to write everything from scratch.\n",
        "\n",
        "Just to try this out, we'll create a neural network -- a MLP classifier -- with one hidden layer that has 50 neurons in it. We'll have it run through the training data 20 times (that's ```max_iter=20```) so it doesn't take too long. \n",
        "\n",
        "We also set a variety of other learning parameters to create the MLP.  You may recognize some of these parameters, like learning rate.  By changing any of these parameters, we can influence how the MLP performs in training and testing, but it's a good idea to try a default approach and then improve on it later."
      ]
    },
    {
      "cell_type": "code",
      "metadata": {
        "id": "Rx-OxVm6Mjj2",
        "colab_type": "code",
        "colab": {
          "base_uri": "https://localhost:8080/",
          "height": 34
        },
        "outputId": "be9f60f2-a34d-428a-f5ed-02bcca8764cd"
      },
      "source": [
        "# STEP 2.1\n",
        "\n",
        "# These two lines import the ML libraries we need\n",
        "from sklearn.datasets import fetch_openml\n",
        "from sklearn.neural_network import MLPClassifier\n",
        "\n",
        "# This creates our first MLP with 1 hidden layer with 50 neurons and sets it to run through the data 20 times\n",
        "mlp1 = MLPClassifier(hidden_layer_sizes=(50,), max_iter=20, alpha=1e-4,\n",
        "                    solver='sgd', verbose=10, tol=1e-4, random_state=1,\n",
        "                    learning_rate_init=.1)\n",
        "\n",
        "print(\"Created our first MLP network\")"
      ],
      "execution_count": 4,
      "outputs": [
        {
          "output_type": "stream",
          "text": [
            "Created our first MLP network\n"
          ],
          "name": "stdout"
        }
      ]
    },
    {
      "cell_type": "markdown",
      "metadata": {
        "id": "lIBxv5cfWD9M",
        "colab_type": "text"
      },
      "source": [
        "**STEP 3**\n",
        "\n",
        "Now that we've created the MLP, let's actually train it and test its ability to recognize some handwritten letters!  Go ahead and \"fit\" command to see how it will perform -- it might take a minute. As it's learning, it will print status update information about the learning process. You can see the loss value decreasing over each iteration, which means it's getting better at recognizing the training set!"
      ]
    },
    {
      "cell_type": "code",
      "metadata": {
        "id": "DcyaMwrmWCk8",
        "colab_type": "code",
        "colab": {
          "base_uri": "https://localhost:8080/",
          "height": 440
        },
        "outputId": "6fa6692e-601e-4809-b4c3-cefdaa2ea17b"
      },
      "source": [
        "# STEP 3.1\n",
        "\n",
        "mlp1.fit(X_train, y_train)\n",
        "print(\"Training set score: %f\" % mlp1.score(X_train, y_train))\n",
        "print(\"Test set score: %f\" % mlp1.score(X_test, y_test))"
      ],
      "execution_count": 5,
      "outputs": [
        {
          "output_type": "stream",
          "text": [
            "Iteration 1, loss = 1.06351395\n",
            "Iteration 2, loss = 0.64844650\n",
            "Iteration 3, loss = 0.56103245\n",
            "Iteration 4, loss = 0.51987725\n",
            "Iteration 5, loss = 0.49182099\n",
            "Iteration 6, loss = 0.47301057\n",
            "Iteration 7, loss = 0.45839220\n",
            "Iteration 8, loss = 0.44603836\n",
            "Iteration 9, loss = 0.43479721\n",
            "Iteration 10, loss = 0.42809575\n",
            "Iteration 11, loss = 0.41639233\n",
            "Iteration 12, loss = 0.40782908\n",
            "Iteration 13, loss = 0.40548360\n",
            "Iteration 14, loss = 0.39965983\n",
            "Iteration 15, loss = 0.39296832\n",
            "Iteration 16, loss = 0.38883219\n",
            "Iteration 17, loss = 0.38393955\n",
            "Iteration 18, loss = 0.37948343\n",
            "Iteration 19, loss = 0.37307616\n",
            "Iteration 20, loss = 0.37166732\n"
          ],
          "name": "stdout"
        },
        {
          "output_type": "stream",
          "text": [
            "/usr/local/lib/python3.6/dist-packages/sklearn/neural_network/_multilayer_perceptron.py:571: ConvergenceWarning: Stochastic Optimizer: Maximum iterations (20) reached and the optimization hasn't converged yet.\n",
            "  % self.max_iter, ConvergenceWarning)\n"
          ],
          "name": "stderr"
        },
        {
          "output_type": "stream",
          "text": [
            "Training set score: 0.886500\n",
            "Test set score: 0.840800\n"
          ],
          "name": "stdout"
        }
      ]
    },
    {
      "cell_type": "markdown",
      "metadata": {
        "id": "nSKEzW7YWT-l",
        "colab_type": "text"
      },
      "source": [
        "You can try running this a couple of times and you'll see that the accuracy and loss will be in the same ballpark but slightly different each time. These differences are due to the fact that the neuron weights are randomly initialized in each run. But if you didn't change anything in the MLP structure above, you're probably seeing something like 89% accuracy on the training dataset and 84% accuracy on the testing dataset.\n",
        "\n",
        "That's actually pretty good -- it means that the network is guessing correctly 84% of time on letters it's never seen before! It learned! But let's see if we can make it even better. We can explore the dataset to figure out where things went wrong."
      ]
    },
    {
      "cell_type": "code",
      "metadata": {
        "id": "0Ux7zg-iYAhv",
        "colab_type": "code",
        "colab": {
          "base_uri": "https://localhost:8080/",
          "height": 292
        },
        "outputId": "53594383-940e-4c44-ccc7-171a830baba1"
      },
      "source": [
        "# STEP 3.2\n",
        "\n",
        "# First let's initialize a list with all the predicted values from the training set\n",
        "y_pred = mlp1.predict(X_test)\n",
        "\n",
        "# Now let's visualize the errors between the predictions and the actual labels using a confusion matrix\n",
        "from sklearn.metrics import confusion_matrix\n",
        "cm = confusion_matrix(y_test, y_pred)\n",
        "plt.matshow(cm)"
      ],
      "execution_count": 6,
      "outputs": [
        {
          "output_type": "execute_result",
          "data": {
            "text/plain": [
              "<matplotlib.image.AxesImage at 0x7f83cbf9a160>"
            ]
          },
          "metadata": {
            "tags": []
          },
          "execution_count": 6
        },
        {
          "output_type": "display_data",
          "data": {
            "image/png": "[encoded data removed]",
            "text/plain": [
              "<Figure size 288x288 with 1 Axes>"
            ]
          },
          "metadata": {
            "tags": [],
            "needs_background": "light"
          }
        }
      ]
    },
    {
      "cell_type": "markdown",
      "metadata": {
        "id": "dWe9nrfdaPBq",
        "colab_type": "text"
      },
      "source": [
        "The color of each cell in the confusion matrix represents the number of elements in that cell -- a brighter color means more elements. The rows are the correct value and the columns are the predicted value. The numbers on the axes represent the 26 letters in the alphabet (though EMNIST just represents letters as numbers, so 0=A, 1=B, etc.), so the brightness of cell (0,0) represents the number of times that our network correctly predicted that an \"A\" is an \"A.\"  The diagonal line of cells shows when the predicted value is correct. It's good to see a bright line! \n",
        "\n",
        "If any of the cells off the diagonal are particularly bright, we can investigate more.\n",
        "\n",
        "For example, \"I\" and \"L\" may be easy to confuse (\"U\" and \"V\" are also good ones to try!), so let's look at some of the cases where that happened. You can change the code and run it as many times as you want to look at some examples of these mistakes."
      ]
    },
    {
      "cell_type": "code",
      "metadata": {
        "id": "kGNJFFZmfS4I",
        "colab_type": "code",
        "colab": {
          "base_uri": "https://localhost:8080/",
          "height": 282
        },
        "outputId": "6afb973b-baf2-440c-fb92-2788e2959b4e"
      },
      "source": [
        "# STEP 3.3\n",
        "\n",
        "# You can change this to any letters that you think the neural network may have confused...\n",
        "predicted_letter = 'l'\n",
        "actual_letter = 'i'\n",
        "\n",
        "\n",
        "# This code counts all mistakes for the letters above\n",
        "mistake_list = []\n",
        "for i in range(len(y_test)):\n",
        "  if (y_test[i] == (ord(actual_letter) - 96) and y_pred[i] == (ord(predicted_letter) - 96)):\n",
        "    mistake_list.append(i)\n",
        "print(\"There were \" + str(len(mistake_list)) + \" times that the letter \" + actual_letter + \" was predicted to be the letter \" + predicted_letter + \".\")\n",
        "\n",
        "# Once we know how many mistakes were made, we can change this to see an image of a particular one\n",
        "mistake_to_show = 4 # <<< e.g., change this to 3 if you want to see the 4th mistake\n",
        "\n",
        "# This code checks that the number mistake you asked for can be shown and if so, displays an image of it\n",
        "if (len(mistake_list)> mistake_to_show):\n",
        "  img = X_test[mistake_list[mistake_to_show]]\n",
        "  plt.imshow(img.reshape((28,28)))\n",
        "else:\n",
        "  print(\"Couldn't show mistake number \" + str(mistake_to_show + 1) + \" because there were only \" + str(len(mistake_list)) + \" mistakes to show!\")"
      ],
      "execution_count": 7,
      "outputs": [
        {
          "output_type": "stream",
          "text": [
            "There were 84 times that the letter i was predicted to be the letter l.\n"
          ],
          "name": "stdout"
        },
        {
          "output_type": "display_data",
          "data": {
            "image/png": "[encoded data removed]",
            "text/plain": [
              "<Figure size 432x288 with 1 Axes>"
            ]
          },
          "metadata": {
            "tags": [],
            "needs_background": "light"
          }
        }
      ]
    },
    {
      "cell_type": "markdown",
      "metadata": {
        "id": "LAOTwscofh0X",
        "colab_type": "text"
      },
      "source": [
        "So we can sort of see why the MLP neural network made the mistake here. Even as a human, I probably wouldn't know what some of these letters are unless I could see them in a word and guess from context. Neural networks have a hard job!"
      ]
    },
    {
      "cell_type": "markdown",
      "metadata": {
        "id": "-QRU60vfX4XJ",
        "colab_type": "text"
      },
      "source": [
        "On EMNIST, the state-of-the-art machine learning techniques get greater than 96% accuracy, so I think we can also get better than 84%. Let's make a new network called mlp2 and try some things out.\n",
        "\n",
        "One thing we can try is having more hidden layers and more neurons in the hidden layers. For example, to add another hidden layer of 50 neurons, you can do the following: ```hidden_layer_sizes=(50,50,)```. \n",
        "\n",
        "The other thing we can try is training for more epochs (or iterations). For example, we can change our ```max_iter=30```. \n",
        "\n",
        "You can play around with the structure to see what happens, but with more layers and more epochs, it takes a longer time for the network to train! So let's just start with 5 layers of 100 neurons each, trained for 50 epochs."
      ]
    },
    {
      "cell_type": "code",
      "metadata": {
        "id": "WiAUTXZrW2as",
        "colab_type": "code",
        "colab": {
          "base_uri": "https://localhost:8080/",
          "height": 944
        },
        "outputId": "846f91dd-7f56-4503-edba-920bcbe59477"
      },
      "source": [
        "# STEP 3.4\n",
        "\n",
        "# Change some of the values in the below statement and re-run to see how they \n",
        "# affect performance!\n",
        "mlp2 = MLPClassifier(hidden_layer_sizes=(100,100,100,100,100,), max_iter=50, alpha=1e-4,\n",
        "                    solver='sgd', verbose=10, tol=1e-4, random_state=1,\n",
        "                    learning_rate_init=.1)\n",
        "mlp2.fit(X_train, y_train)\n",
        "print(\"Training set score: %f\" % mlp2.score(X_train, y_train))\n",
        "print(\"Test set score: %f\" % mlp2.score(X_test, y_test))"
      ],
      "execution_count": 10,
      "outputs": [
        {
          "output_type": "stream",
          "text": [
            "Iteration 1, loss = 1.15599672\n",
            "Iteration 2, loss = 0.54834774\n",
            "Iteration 3, loss = 0.44784035\n",
            "Iteration 4, loss = 0.39865207\n",
            "Iteration 5, loss = 0.36308811\n",
            "Iteration 6, loss = 0.33567397\n",
            "Iteration 7, loss = 0.31904877\n",
            "Iteration 8, loss = 0.29485588\n",
            "Iteration 9, loss = 0.27846574\n",
            "Iteration 10, loss = 0.26938228\n",
            "Iteration 11, loss = 0.25802023\n",
            "Iteration 12, loss = 0.25935391\n",
            "Iteration 13, loss = 0.25040129\n",
            "Iteration 14, loss = 0.23778275\n",
            "Iteration 15, loss = 0.22900046\n",
            "Iteration 16, loss = 0.22848821\n",
            "Iteration 17, loss = 0.21585034\n",
            "Iteration 18, loss = 0.21573023\n",
            "Iteration 19, loss = 0.21042306\n",
            "Iteration 20, loss = 0.20923178\n",
            "Iteration 21, loss = 0.20420055\n",
            "Iteration 22, loss = 0.20746136\n",
            "Iteration 23, loss = 0.20814230\n",
            "Iteration 24, loss = 0.19709426\n",
            "Iteration 25, loss = 0.18931068\n",
            "Iteration 26, loss = 0.19564641\n",
            "Iteration 27, loss = 0.19622160\n",
            "Iteration 28, loss = 0.20256337\n",
            "Iteration 29, loss = 0.18332725\n",
            "Iteration 30, loss = 0.19266968\n",
            "Iteration 31, loss = 0.18690757\n",
            "Iteration 32, loss = 0.18365975\n",
            "Iteration 33, loss = 0.18847366\n",
            "Iteration 34, loss = 0.18030152\n",
            "Iteration 35, loss = 0.18514135\n",
            "Iteration 36, loss = 0.18055779\n",
            "Iteration 37, loss = 0.17975747\n",
            "Iteration 38, loss = 0.18615996\n",
            "Iteration 39, loss = 0.18265912\n",
            "Iteration 40, loss = 0.16979666\n",
            "Iteration 41, loss = 0.18479706\n",
            "Iteration 42, loss = 0.17704018\n",
            "Iteration 43, loss = 0.17667839\n",
            "Iteration 44, loss = 0.18577955\n",
            "Iteration 45, loss = 0.18380964\n",
            "Iteration 46, loss = 0.18452252\n",
            "Iteration 47, loss = 0.18314915\n",
            "Iteration 48, loss = 0.18020371\n",
            "Iteration 49, loss = 0.17523959\n",
            "Iteration 50, loss = 0.19086538\n"
          ],
          "name": "stdout"
        },
        {
          "output_type": "stream",
          "text": [
            "/usr/local/lib/python3.6/dist-packages/sklearn/neural_network/_multilayer_perceptron.py:571: ConvergenceWarning: Stochastic Optimizer: Maximum iterations (50) reached and the optimization hasn't converged yet.\n",
            "  % self.max_iter, ConvergenceWarning)\n"
          ],
          "name": "stderr"
        },
        {
          "output_type": "stream",
          "text": [
            "Training set score: 0.942917\n",
            "Test set score: 0.883300\n"
          ],
          "name": "stdout"
        }
      ]
    },
    {
      "cell_type": "markdown",
      "metadata": {
        "id": "M_VRX5lEWcwe",
        "colab_type": "text"
      },
      "source": [
        "So that's a fair amount of improvement! By having more layers and more training epochs, we got an extra 5% or so of accuracy (remember, this might vary slightly because there is some randomness in the process). That might not seem like a lot, but eliminating 1 in 20 mistakes is actually a pretty big deal!\n",
        "\n",
        "You can keep playing with the neural network structure in this block and see if you can get even better accuracy. But this should also be good enough for now, so we're ready to apply it to our scanned letters.\n",
        "\n",
        "**STEP 4**\n",
        "\n",
        "First, we have to get the scanned letter dataset that we uploaded and saved on GitHub. You can see the raw scanned data set here: https://github.com/crash-course-ai/lab1-neural-networks/tree/master/letters. \n",
        "\n",
        "But, as you can see, those images are HUGE. So we've also done a bit of preprocessing to avoid having to download and process quite so much data. We've changed the size of every image to 128x128 pixels.The other thing you may notice is that the EMNIST dataset uses a dark background with light strokes, but our original scans have a white background with dark strokes. So, we also went ahead and inverted those colors. \n",
        "\n",
        "This modified dataset is what we'll use in our code and it is also available in the GitHub here: https://github.com/crash-course-ai/lab1-neural-networks/tree/master/letters_mod"
      ]
    },
    {
      "cell_type": "code",
      "metadata": {
        "id": "Bs1-wuqGHYRm",
        "colab_type": "code",
        "colab": {
          "base_uri": "https://localhost:8080/",
          "height": 302
        },
        "outputId": "28984432-7c1b-4b8e-ae34-ffc09dbd3dd2"
      },
      "source": [
        "# STEP 4.1\n",
        "\n",
        "# Pulls the scanned data set from GitHub\n",
        "!git clone https://github.com/crash-course-ai/lab1-neural-networks.git\n",
        "!git pull\n",
        "!ls lab1-neural-networks/letters_mod\n",
        "!cd /content/lab1-neural-networks/letters_mod\n",
        "!pwd\n",
        "\n",
        "# Puts all the data in the \"files\" variable\n",
        "import os\n",
        "path, dirs, files = next(os.walk(\"/content/lab1-neural-networks/letters_mod/\"))\n",
        "files.sort()"
      ],
      "execution_count": 11,
      "outputs": [
        {
          "output_type": "stream",
          "text": [
            "Cloning into 'lab1-neural-networks'...\n",
            "remote: Enumerating objects: 152, done.\u001b[K\n",
            "Receiving objects:   0% (1/152)   \rReceiving objects:   1% (2/152)   \rReceiving objects:   2% (4/152)   \rReceiving objects:   3% (5/152)   \rReceiving objects:   4% (7/152)   \rReceiving objects:   5% (8/152)   \rReceiving objects:   6% (10/152)   \rReceiving objects:   7% (11/152)   \rReceiving objects:   8% (13/152)   \rReceiving objects:   9% (14/152)   \rReceiving objects:  10% (16/152)   \rReceiving objects:  11% (17/152)   \rReceiving objects:  12% (19/152)   \rReceiving objects:  13% (20/152)   \rReceiving objects:  14% (22/152)   \rReceiving objects:  15% (23/152)   \rReceiving objects:  16% (25/152)   \rReceiving objects:  17% (26/152)   \rReceiving objects:  18% (28/152)   \rReceiving objects:  19% (29/152)   \rReceiving objects:  20% (31/152)   \rReceiving objects:  21% (32/152)   \rReceiving objects:  22% (34/152)   \rReceiving objects:  23% (35/152)   \rReceiving objects:  24% (37/152)   \rReceiving objects:  25% (38/152)   \rReceiving objects:  26% (40/152)   \rReceiving objects:  27% (42/152)   \rReceiving objects:  28% (43/152)   \rReceiving objects:  29% (45/152)   \rReceiving objects:  30% (46/152)   \rReceiving objects:  31% (48/152)   \rReceiving objects:  32% (49/152)   \rReceiving objects:  33% (51/152)   \rReceiving objects:  34% (52/152)   \rReceiving objects:  35% (54/152)   \rReceiving objects:  36% (55/152)   \rReceiving objects:  37% (57/152)   \rReceiving objects:  38% (58/152)   \rReceiving objects:  39% (60/152)   \rReceiving objects:  40% (61/152)   \rReceiving objects:  41% (63/152)   \rReceiving objects:  42% (64/152)   \rReceiving objects:  43% (66/152)   \rReceiving objects:  44% (67/152)   \rReceiving objects:  45% (69/152)   \rReceiving objects:  46% (70/152)   \rReceiving objects:  47% (72/152)   \rReceiving objects:  48% (73/152)   \rReceiving objects:  49% (75/152)   \rReceiving objects:  50% (76/152)   \rReceiving objects:  51% (78/152)   \rReceiving objects:  52% (80/152)   \rReceiving objects:  53% (81/152)   \rReceiving objects:  54% (83/152)   \rReceiving objects:  55% (84/152)   \rReceiving objects:  56% (86/152)   \rReceiving objects:  57% (87/152)   \rReceiving objects:  58% (89/152)   \rReceiving objects:  59% (90/152)   \rReceiving objects:  60% (92/152)   \rReceiving objects:  61% (93/152)   \rReceiving objects:  62% (95/152)   \rReceiving objects:  63% (96/152)   \rReceiving objects:  64% (98/152)   \rReceiving objects:  65% (99/152)   \rReceiving objects:  66% (101/152)   \rReceiving objects:  67% (102/152)   \rReceiving objects:  68% (104/152)   \rReceiving objects:  69% (105/152)   \rReceiving objects:  70% (107/152)   \rReceiving objects:  71% (108/152)   \rremote: Total 152 (delta 0), reused 0 (delta 0), pack-reused 152\u001b[K\n",
            "Receiving objects:  72% (110/152)   \rReceiving objects:  73% (111/152)   \rReceiving objects:  74% (113/152)   \rReceiving objects:  75% (114/152)   \rReceiving objects:  76% (116/152)   \rReceiving objects:  77% (118/152)   \rReceiving objects:  78% (119/152)   \rReceiving objects:  79% (121/152)   \rReceiving objects:  80% (122/152)   \rReceiving objects:  81% (124/152)   \rReceiving objects:  82% (125/152)   \rReceiving objects:  83% (127/152)   \rReceiving objects:  84% (128/152)   \rReceiving objects:  85% (130/152)   \rReceiving objects:  86% (131/152)   \rReceiving objects:  87% (133/152)   \rReceiving objects:  88% (134/152)   \rReceiving objects:  89% (136/152)   \rReceiving objects:  90% (137/152)   \rReceiving objects:  91% (139/152)   \rReceiving objects:  92% (140/152)   \rReceiving objects:  93% (142/152)   \rReceiving objects:  94% (143/152)   \rReceiving objects:  95% (145/152)   \rReceiving objects:  96% (146/152)   \rReceiving objects:  97% (148/152)   \rReceiving objects:  98% (149/152)   \rReceiving objects:  99% (151/152)   \rReceiving objects: 100% (152/152)   \rReceiving objects: 100% (152/152), 4.60 MiB | 27.57 MiB/s, done.\n",
            "Resolving deltas:   0% (0/59)   \rResolving deltas:   5% (3/59)   \rResolving deltas:   8% (5/59)   \rResolving deltas:  40% (24/59)   \rResolving deltas:  44% (26/59)   \rResolving deltas:  47% (28/59)   \rResolving deltas: 100% (59/59)   \rResolving deltas: 100% (59/59), done.\n",
            "fatal: not a git repository (or any of the parent directories): .git\n",
            "00.jpg\t10.jpg\t20.jpg\t30.jpg\t40.jpg\t50.jpg\t60.jpg\t70.jpg\t80.jpg\t90.jpg\n",
            "01.jpg\t11.jpg\t21.jpg\t31.jpg\t41.jpg\t51.jpg\t61.jpg\t71.jpg\t81.jpg\t91.jpg\n",
            "02.jpg\t12.jpg\t22.jpg\t32.jpg\t42.jpg\t52.jpg\t62.jpg\t72.jpg\t82.jpg\t92.jpg\n",
            "03.jpg\t13.jpg\t23.jpg\t33.jpg\t43.jpg\t53.jpg\t63.jpg\t73.jpg\t83.jpg\t93.jpg\n",
            "04.jpg\t14.jpg\t24.jpg\t34.jpg\t44.jpg\t54.jpg\t64.jpg\t74.jpg\t84.jpg\t94.jpg\n",
            "05.jpg\t15.jpg\t25.jpg\t35.jpg\t45.jpg\t55.jpg\t65.jpg\t75.jpg\t85.jpg\t95.jpg\n",
            "06.jpg\t16.jpg\t26.jpg\t36.jpg\t46.jpg\t56.jpg\t66.jpg\t76.jpg\t86.jpg\t96.jpg\n",
            "07.jpg\t17.jpg\t27.jpg\t37.jpg\t47.jpg\t57.jpg\t67.jpg\t77.jpg\t87.jpg\t97.jpg\n",
            "08.jpg\t18.jpg\t28.jpg\t38.jpg\t48.jpg\t58.jpg\t68.jpg\t78.jpg\t88.jpg\t98.jpg\n",
            "09.jpg\t19.jpg\t29.jpg\t39.jpg\t49.jpg\t59.jpg\t69.jpg\t79.jpg\t89.jpg\t99.jpg\n",
            "/content\n"
          ],
          "name": "stdout"
        }
      ]
    },
    {
      "cell_type": "markdown",
      "metadata": {
        "id": "8jot1iIMAC83",
        "colab_type": "text"
      },
      "source": [
        "Here we'll read each image and add it to a list to hold the handwritten story. We'll also print this image to make sure we read it correctly -- feel free to change this index to see different letters."
      ]
    },
    {
      "cell_type": "code",
      "metadata": {
        "id": "K0hPrlEvW5ZY",
        "colab_type": "code",
        "colab": {
          "base_uri": "https://localhost:8080/",
          "height": 302
        },
        "outputId": "7deb33a1-d3da-420f-f738-82e010a32e2a"
      },
      "source": [
        "# STEP 4.2\n",
        "\n",
        "# These libraries let us import the letters, resize them, and print them out\n",
        "import cv2\n",
        "import matplotlib.pyplot as plt\n",
        "\n",
        "# This code processes all the scanned images and adds them to the handwritten_story\n",
        "handwritten_story = []\n",
        "for i in range(len(files)):\n",
        "  img = cv2.imread(\"/content/lab1-neural-networks/letters_mod/\"+files[i],cv2.IMREAD_GRAYSCALE)\n",
        "  handwritten_story.append(img)\n",
        "\n",
        "print(\"Imported the scanned images.\")\n",
        "\n",
        "plt.imshow(handwritten_story[4])  #<--- Change this index to see different letters\n"
      ],
      "execution_count": 12,
      "outputs": [
        {
          "output_type": "stream",
          "text": [
            "Imported the scanned images.\n"
          ],
          "name": "stdout"
        },
        {
          "output_type": "execute_result",
          "data": {
            "text/plain": [
              "<matplotlib.image.AxesImage at 0x7f83c2ed99b0>"
            ]
          },
          "metadata": {
            "tags": []
          },
          "execution_count": 12
        },
        {
          "output_type": "display_data",
          "data": {
            "image/png": "[encoded data removed]",
            "text/plain": [
              "<Figure size 432x288 with 1 Axes>"
            ]
          },
          "metadata": {
            "tags": [],
            "needs_background": "light"
          }
        }
      ]
    },
    {
      "cell_type": "markdown",
      "metadata": {
        "id": "L85HdxpOoM0t",
        "colab_type": "text"
      },
      "source": [
        "Well, to the naked eye this looks similar enough to the EMNIST letters and these even seem like they're MORE clear and bright. So, let's try actually getting the story!\n",
        "\n",
        "We're going to put the handwritten story into our trained MLP and see how it does."
      ]
    },
    {
      "cell_type": "code",
      "metadata": {
        "id": "2TPLm8eYoq38",
        "colab_type": "code",
        "colab": {
          "base_uri": "https://localhost:8080/",
          "height": 50
        },
        "outputId": "27dd797f-4b1b-45c3-ce30-508c3d940abb"
      },
      "source": [
        "# STEP 4.3\n",
        "\n",
        "# These are libraries we need to do some math on the image\n",
        "# to be able to give it to the MLP in the right format and to resize it to 28x28 pixels\n",
        "import numpy\n",
        "import cv2\n",
        "\n",
        "typed_story = \"\"\n",
        "for letter in handwritten_story:\n",
        "    letter = cv2.resize(letter, (28,28), interpolation = cv2.INTER_CUBIC)\n",
        "    single_item_array = (numpy.array(letter)).reshape(1,784)\n",
        "    prediction = mlp2.predict(single_item_array)\n",
        "    typed_story = typed_story + str(chr(prediction[0]+96))\n",
        "    \n",
        "print(\"Conversion to typed story complete!\")\n",
        "print(typed_story)"
      ],
      "execution_count": 13,
      "outputs": [
        {
          "output_type": "stream",
          "text": [
            "Conversion to typed story complete!\n",
            "thejfnultjivjourjqouerjsupeliesjijrclljinjluvejthejwnyjyquzjbnttezyjdcesjslawlyjnndjttenjnlljntjancr\n"
          ],
          "name": "stdout"
        }
      ]
    },
    {
      "cell_type": "markdown",
      "metadata": {
        "id": "FOVBUJagqLus",
        "colab_type": "text"
      },
      "source": [
        "And... that makes no sense, so what are we doing wrong?\n",
        "\n",
        "Well, first of all, John-Green-bot's handwritten story had some empty spaces between words. We never actually trained our model on empty spaces, just the 26 letters, so it wouldn't be able to detect these.\n",
        "\n",
        "But blank pages should be easy to detect. After all, unlike handwritten letters, all blank images should be exactly the same. So, we'll just check each image to see if it's a blank space. And if it is, we'll add a space to our story. "
      ]
    },
    {
      "cell_type": "code",
      "metadata": {
        "id": "U8BGJtQRq1xi",
        "colab_type": "code",
        "colab": {
          "base_uri": "https://localhost:8080/",
          "height": 50
        },
        "outputId": "2fea4db0-989f-491f-d6f6-68a71fe0f52b"
      },
      "source": [
        "# STEP 4.4\n",
        "\n",
        "# This is a library we need to do some math on the image to be able to give it to the MLP in the right format\n",
        "import numpy\n",
        "\n",
        "typed_story = \"\"\n",
        "for letter in handwritten_story:\n",
        "  letter = cv2.resize(letter, (28,28), interpolation = cv2.INTER_CUBIC)\n",
        "    \n",
        "  #this bit of code checks to see if the image is just a blank space by looking at the color of all the pixels summed\n",
        "  total_pixel_value = 0\n",
        "  for j in range(28):\n",
        "    for k in range(28):\n",
        "      total_pixel_value += letter[j,k]\n",
        "  if total_pixel_value < 20:\n",
        "    typed_story = typed_story + \" \"\n",
        "  else:         #if it NOT a blank, it actually runs the prediction algorithm on it\n",
        "    single_item_array = (numpy.array(letter)).reshape(1,784)\n",
        "    prediction = mlp2.predict(single_item_array)\n",
        "    typed_story = typed_story + str(chr(prediction[0]+96))\n",
        "    \n",
        "print(\"Conversion to typed story complete!\")\n",
        "print(typed_story)"
      ],
      "execution_count": 14,
      "outputs": [
        {
          "output_type": "stream",
          "text": [
            "Conversion to typed story complete!\n",
            "the fnult iv our qouer supelies i rcll in luve the wny yquz bnttezy dces slawly nnd tten nll nt ancr\n"
          ],
          "name": "stdout"
        }
      ]
    },
    {
      "cell_type": "markdown",
      "metadata": {
        "id": "zZ3RdoEarHyM",
        "colab_type": "text"
      },
      "source": [
        "This looks better. There are separate words, and the first word is \"The.\" But there's still something going wrong.\n",
        "\n",
        "The papers we scanned were really big compared to the handwritten samples that were used to train EMNIST. We resized them, but that doesn't seem to be enough. So we should try processing these images in the same way that EMNIST did.\n",
        "\n",
        "So, let's take a look at the orginal EMNIST paper... The paper (https://arxiv.org/abs/1702.05373v1) describes the steps we need to take to process these images in one of the figures. Essentially, we need to make the strokes more blurry, we need to put the letter at the very center of the image and crop out the rest, and we need to resize each one to be 28x28 pixels.\n",
        "\n",
        "We'll do this processing and then print out one letter to see how it turned out. As always, we can change the index in the code to see a different letter."
      ]
    },
    {
      "cell_type": "code",
      "metadata": {
        "id": "RQ1SqowzKeHG",
        "colab_type": "code",
        "colab": {
          "base_uri": "https://localhost:8080/",
          "height": 298
        },
        "outputId": "cbd9292c-805c-4937-c71b-381cad8398c4"
      },
      "source": [
        "# STEP 4.5\n",
        "\n",
        "# These steps process the scanned images to be in the same format and have the same properties as the EMNIST images\n",
        "# They are described by the EMNIST authors in detail here: https://arxiv.org/abs/1702.05373v1\n",
        "processed_story = []\n",
        "\n",
        "for img in handwritten_story:\n",
        "  #step 1: Apply Gaussian blur filter\n",
        "  img = cv2.GaussianBlur(img, (7,7), 0)\n",
        "  \n",
        "  #steps 2 and 3: Extract the Region of Interest in the image and center in square\n",
        "  points = cv2.findNonZero(img)\n",
        "  x, y, w, h = cv2.boundingRect(points)\n",
        "  if (w > 0 and h > 0):\n",
        "    if w > h:\n",
        "      y = y - (w-h)//2\n",
        "      img = img[y:y+w, x:x+w]\n",
        "    else:\n",
        "      x = x - (h-w)//2\n",
        "      img = img[y:y+h, x:x+h]\n",
        "     \n",
        "  #step 4: Resize and resample to be 28 x 28 pixels\n",
        "  img = cv2.resize(img, (28,28), interpolation = cv2.INTER_CUBIC)\n",
        "  \n",
        "  #step 5: Normalize pixels and reshape before adding to the new story array\n",
        "  img = img/255\n",
        "  img = img.reshape((28,28))\n",
        "  processed_story.append(img)\n",
        "\n",
        "print(\"Processed the scanned images.\")\n",
        "\n",
        "import matplotlib.pyplot as plt\n",
        "plt.imshow(processed_story[4]) #<<< change this index if you want to see a different letter from the story"
      ],
      "execution_count": 15,
      "outputs": [
        {
          "output_type": "stream",
          "text": [
            "Processed the scanned images.\n"
          ],
          "name": "stdout"
        },
        {
          "output_type": "execute_result",
          "data": {
            "text/plain": [
              "<matplotlib.image.AxesImage at 0x7f83c2e51f98>"
            ]
          },
          "metadata": {
            "tags": []
          },
          "execution_count": 15
        },
        {
          "output_type": "display_data",
          "data": {
            "image/png": "[encoded data removed]",
            "text/plain": [
              "<Figure size 432x288 with 1 Axes>"
            ]
          },
          "metadata": {
            "tags": [],
            "needs_background": "light"
          }
        }
      ]
    },
    {
      "cell_type": "markdown",
      "metadata": {
        "id": "FhobxHEoKqXt",
        "colab_type": "text"
      },
      "source": [
        "So even though the letter looks less clear now to our human eyes, it actually does look much more similar to the letters in the EMNIST dataset, which is good for our neural network. The edges of the letter are kind of fuzzy and it's centered in the square.\n",
        "\n",
        "Okay, so now we can try the processing the story with our neural network one more time!"
      ]
    },
    {
      "cell_type": "code",
      "metadata": {
        "id": "wFH4kBA9ar-O",
        "colab_type": "code",
        "colab": {
          "base_uri": "https://localhost:8080/",
          "height": 50
        },
        "outputId": "c54c3a5d-0940-48ec-c992-e3aea8e45b85"
      },
      "source": [
        "# STEP 4.6\n",
        "\n",
        "# This is a library we need to do some math on the image to be able to give it to the MLP in the right format\n",
        "import numpy\n",
        "\n",
        "typed_story = \"\"\n",
        "for letter in processed_story:\n",
        "  #this bit of code checks to see if the image is just a blank space by looking at the color of all the pixels summed\n",
        "  total_pixel_value = 0\n",
        "  for j in range(28):\n",
        "    for k in range(28):\n",
        "      total_pixel_value += letter[j,k]\n",
        "  if total_pixel_value < 20:\n",
        "    typed_story = typed_story + \" \"\n",
        "  else:         #if it NOT a blank, it actually runs the prediction algorithm on it\n",
        "    single_item_array = (numpy.array(letter)).reshape(1,784)\n",
        "    prediction = mlp2.predict(single_item_array)\n",
        "    typed_story = typed_story + str(chr(prediction[0]+96))\n",
        "    \n",
        "print(\"Conversion to typed story complete!\")\n",
        "print(typed_story)"
      ],
      "execution_count": 16,
      "outputs": [
        {
          "output_type": "stream",
          "text": [
            "Conversion to typed story complete!\n",
            "the fault jn our pcwer supplies i fell in love the way your battery dies slowly and then all af once\n"
          ],
          "name": "stdout"
        }
      ]
    },
    {
      "cell_type": "markdown",
      "metadata": {
        "id": "fWADSaLh_uho",
        "colab_type": "text"
      },
      "source": [
        "We can definitely pick out more of the words! There are still some mistakes because our neural network accuracy wasn't 100%, so we would expect to see about the same rate of error here (maybe even a bit more, since these letters were originally created at a very different size). But, looking at the context and knowing which letters are likely to be mistaken for one another, we can still read the story.\n",
        "\n",
        "Looks like it starts: \n",
        "\"The Fault in Our Power Supplies” \n",
        "“I fell in love the way your battery dies, slowly and then all at once”\n",
        "\n",
        "No matter how many times you run the predict code above, it's going to make the exact same mistakes in the final printed string. That's because once a network is trained, it's not really random anymore -- it's always applying the same math to the pixels to make its prediction. To get a different prediction, you have to rerun the code above where you trained mlp2.\n",
        "\n",
        "We hope that you mess around with some of this code on your own and try to get better accuracy than we got on the scanned story!"
      ]
    }
  ]
}